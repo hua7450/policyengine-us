{
 "cells": [
  {
   "cell_type": "code",
   "execution_count": 1,
   "id": "b6f5d284",
   "metadata": {},
   "outputs": [
    {
     "name": "stderr",
     "output_type": "stream",
     "text": [
      "d:\\Users\\80528\\anaconda3\\envs\\policyengine-env\\lib\\site-packages\\tqdm\\auto.py:21: TqdmWarning: IProgress not found. Please update jupyter and ipywidgets. See https://ipywidgets.readthedocs.io/en/stable/user_install.html\n",
      "  from .autonotebook import tqdm as notebook_tqdm\n"
     ]
    }
   ],
   "source": [
    "from policyengine_us import Microsimulation\n",
    "from policyengine_core.reforms import Reform"
   ]
  },
  {
   "cell_type": "code",
   "execution_count": 2,
   "id": "6ccec5c9",
   "metadata": {},
   "outputs": [],
   "source": [
    "reform = Reform.from_dict({\n",
    "    \"gov.contrib.reconciliation.snap_abawd_work_requirement.in_effect\":{\n",
    "        \"2026-01-01.2028-12-31\": True\n",
    "    }\n",
    "}, country_id=\"us\")"
   ]
  },
  {
   "cell_type": "code",
   "execution_count": 3,
   "id": "f4e5b8d5",
   "metadata": {},
   "outputs": [],
   "source": [
    "baseline = Microsimulation(dataset=\"hf://policyengine/policyengine-us-data/enhanced_cps_2024.h5\")\n",
    "reformed = Microsimulation(reform=reform, dataset=\"hf://policyengine/policyengine-us-data/enhanced_cps_2024.h5\")"
   ]
  },
  {
   "cell_type": "code",
   "execution_count": 7,
   "id": "fde9dae7",
   "metadata": {},
   "outputs": [],
   "source": [
    "baseline_income = baseline.calculate(\"household_net_income\", map_to=\"household\", period=2026)\n",
    "reformed_income = reformed.calculate(\"household_net_income\", map_to=\"household\", period=2026)"
   ]
  },
  {
   "cell_type": "code",
   "execution_count": 8,
   "id": "d1942650",
   "metadata": {},
   "outputs": [
    {
     "data": {
      "text/plain": [
       "122438536948.61928"
      ]
     },
     "execution_count": 8,
     "metadata": {},
     "output_type": "execute_result"
    }
   ],
   "source": [
    "(reformed_income - baseline_income).sum()"
   ]
  },
  {
   "cell_type": "code",
   "execution_count": 4,
   "id": "5c0954f0",
   "metadata": {},
   "outputs": [
    {
     "data": {
      "text/plain": [
       "131698477.97279663"
      ]
     },
     "execution_count": 4,
     "metadata": {},
     "output_type": "execute_result"
    }
   ],
   "source": [
    "weekly_hours_worked = baseline.calculate(\"weekly_hours_worked\", map_to=\"person\", period=2026)\n",
    "(weekly_hours_worked > 20).sum()"
   ]
  },
  {
   "cell_type": "code",
   "execution_count": null,
   "id": "845ddea5",
   "metadata": {},
   "outputs": [
    {
     "name": "stdout",
     "output_type": "stream",
     "text": [
      "Base\n",
      "General SNAP work requirements: 292.10\n",
      "ABAWD SNAP work requirements: 323.89\n",
      "Overall SNAP work requirements: 225.05\n"
     ]
    }
   ],
   "source": [
    "general_base = baseline.calculate(\"meets_snap_general_work_requirements\", map_to=\"person\", period=2027).sum() / 1e6\n",
    "abawd_base = baseline.calculate(\"meets_snap_abawd_work_requirements\", map_to=\"person\", period=2027).sum() / 1e6\n",
    "overall_base = baseline.calculate(\"meets_snap_work_requirements\", map_to=\"person\", period=2027).sum() / 1e6\n",
    "print(\"Base\")\n",
    "print(f\"General SNAP work requirements: {general_base:.2f}\")\n",
    "print(f\"ABAWD SNAP work requirements: {abawd_base:.2f}\")\n",
    "print(f\"Overall SNAP work requirements: {overall_base:.2f}\")\n",
    "# Base\n",
    "# General SNAP work requirements: 292.10\n",
    "# ABAWD SNAP work requirements: 323.89\n",
    "# Overall SNAP work requirements: 225.05"
   ]
  },
  {
   "cell_type": "code",
   "execution_count": null,
   "id": "38dad334",
   "metadata": {},
   "outputs": [
    {
     "name": "stdout",
     "output_type": "stream",
     "text": [
      "Reform\n",
      "General SNAP work requirements: 292.10\n",
      "ABAWD SNAP work requirements: 321.18\n",
      "Overall SNAP work requirements: 225.05\n"
     ]
    }
   ],
   "source": [
    "general_reform = reformed.calculate(\"meets_snap_general_work_requirements\", map_to=\"person\", period=2027).sum() / 1e6\n",
    "abawd_reform = reformed.calculate(\"meets_snap_abawd_work_requirements\", map_to=\"person\", period=2027).sum() / 1e6\n",
    "overall_reform = reformed.calculate(\"meets_snap_work_requirements\", map_to=\"person\", period=2027).sum() / 1e6\n",
    "print(\"Reform\")\n",
    "print(f\"General SNAP work requirements: {general_reform:.2f}\")\n",
    "print(f\"ABAWD SNAP work requirements: {abawd_reform:.2f}\")\n",
    "print(f\"Overall SNAP work requirements: {overall_reform:.2f}\")\n",
    "# Reform\n",
    "# General SNAP work requirements: 292.10\n",
    "# ABAWD SNAP work requirements: 321.18\n",
    "# Overall SNAP work requirements: 225.05"
   ]
  },
  {
   "cell_type": "code",
   "execution_count": 5,
   "id": "4f85f395",
   "metadata": {},
   "outputs": [
    {
     "name": "stdout",
     "output_type": "stream",
     "text": [
      "Base\n",
      "General SNAP work requirements: 292.10\n",
      "ABAWD SNAP work requirements: 322.43\n",
      "Overall SNAP work requirements: 225.05\n"
     ]
    }
   ],
   "source": [
    "#v1\n",
    "general_base = baseline.calculate(\"meets_snap_general_work_requirements\", map_to=\"person\", period=2027).sum() / 1e6\n",
    "abawd_base = baseline.calculate(\"meets_snap_abawd_work_requirements\", map_to=\"person\", period=2027).sum() / 1e6\n",
    "overall_base = baseline.calculate(\"meets_snap_work_requirements\", map_to=\"person\", period=2027).sum() / 1e6\n",
    "print(\"Base\")\n",
    "print(f\"General SNAP work requirements: {general_base:.2f}\")\n",
    "print(f\"ABAWD SNAP work requirements: {abawd_base:.2f}\")\n",
    "print(f\"Overall SNAP work requirements: {overall_base:.2f}\")"
   ]
  },
  {
   "cell_type": "code",
   "execution_count": 6,
   "id": "30fb4c79",
   "metadata": {},
   "outputs": [
    {
     "name": "stdout",
     "output_type": "stream",
     "text": [
      "Reform\n",
      "General SNAP work requirements: 292.10\n",
      "ABAWD SNAP work requirements: 311.42\n",
      "Overall SNAP work requirements: 213.22\n"
     ]
    }
   ],
   "source": [
    "general_reform = reformed.calculate(\"meets_snap_general_work_requirements\", map_to=\"person\", period=2027).sum() / 1e6\n",
    "abawd_reform = reformed.calculate(\"meets_snap_abawd_work_requirements\", map_to=\"person\", period=2027).sum() / 1e6\n",
    "overall_reform = reformed.calculate(\"meets_snap_work_requirements\", map_to=\"person\", period=2027).sum() / 1e6\n",
    "print(\"Reform\")\n",
    "print(f\"General SNAP work requirements: {general_reform:.2f}\")\n",
    "print(f\"ABAWD SNAP work requirements: {abawd_reform:.2f}\")\n",
    "print(f\"Overall SNAP work requirements: {overall_reform:.2f}\")\n",
    "# Reform\n",
    "# General SNAP work requirements: 292.10\n",
    "# ABAWD SNAP work requirements: 321.18\n",
    "# Overall SNAP work requirements: 225.05"
   ]
  }
 ],
 "metadata": {
  "kernelspec": {
   "display_name": "policyengine-env",
   "language": "python",
   "name": "python3"
  },
  "language_info": {
   "codemirror_mode": {
    "name": "ipython",
    "version": 3
   },
   "file_extension": ".py",
   "mimetype": "text/x-python",
   "name": "python",
   "nbconvert_exporter": "python",
   "pygments_lexer": "ipython3",
   "version": "3.10.16"
  }
 },
 "nbformat": 4,
 "nbformat_minor": 5
}
